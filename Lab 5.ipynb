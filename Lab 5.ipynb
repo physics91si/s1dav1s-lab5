{
 "cells": [
  {
   "cell_type": "markdown",
   "metadata": {},
   "source": [
    "# Part 1"
   ]
  },
  {
   "cell_type": "code",
   "execution_count": 24,
   "metadata": {
    "collapsed": false
   },
   "outputs": [
    {
     "name": "stdout",
     "output_type": "stream",
     "text": [
      "1.99999995404\n",
      "0.000592653593521\n"
     ]
    },
    {
     "data": {
      "text/plain": [
       "1.9999996577142116"
      ]
     },
     "execution_count": 24,
     "metadata": {},
     "output_type": "execute_result"
    },
    {
     "data": {
      "image/png": "[encoded data removed]",
      "text/plain": [
       "<matplotlib.figure.Figure at 0x11140c8d0>"
      ]
     },
     "metadata": {},
     "output_type": "display_data"
    }
   ],
   "source": [
    "#The following statements are used to import numpy and matplotlib.\n",
    "%matplotlib inline\n",
    "import numpy as np\n",
    "import matplotlib.pyplot as plt\n",
    "import scipy.integrate as integrate\n",
    "\n",
    "\n",
    "#Integrate for sine\n",
    "x1= np.arange(0,np.pi, 0.001)\n",
    "y1= np.sin(x1)\n",
    "plt.plot(x1,y1)\n",
    "\n",
    "#Integrate for cosine\n",
    "x2= np.arange(0,np.pi, 0.001)\n",
    "y2= np.cos(x2)\n",
    "plt.plot(x2,y2)\n",
    "\n",
    "def integrate(y, dx):\n",
    "    return np.sum(y*dx)\n",
    "\n",
    "print(integrate (y1, 0.001))\n",
    "\n",
    "print(integrate (y2, 0.001))\n",
    "\n",
    "#Integrate function in numpy\n",
    "np.trapz(y1, x1)\n",
    "\n",
    "#numpy function and my function produce very similar results"
   ]
  },
  {
   "cell_type": "markdown",
   "metadata": {},
   "source": [
    "# Part 2"
   ]
  },
  {
   "cell_type": "code",
   "execution_count": null,
   "metadata": {
    "collapsed": true
   },
   "outputs": [],
   "source": [
    "import numpy as np\n",
    "import matplotlib.pyplot as plt\n",
    "import scipy.optimize as opt\n",
    "\n",
    "\n",
    "x=np.linspace(-max, max, N)\n",
    "sigma=10\n",
    "y=np.exp(-(x)**2/2/sigma**2) * np.sin(x)\n",
    "\n",
    "\n",
    "plt.subplot(1, 2, 1)\n",
    "plt.plot(x,y)\n",
    "plt.title('Title Domain')\n",
    "plt.ylabel('$f(x)$')\n",
    " \n",
    "xf=np.fft.fftfreq(N,d=timestep)\n",
    "yf=np.fft.fft(y)\n",
    "\n",
    "\n",
    "\n",
    "\n",
    "def wavepacket(x, k, sigma):\n",
    "    \"\"\"This function creates a wavepacket on the interval defined by x with\n",
    "    wavevector k and standard deviation sigma.\"\"\"\n",
    "    return np.sin(k*x) *  np.exp(-(x**2)/(2*sigma**2))\n",
    "\n",
    "\n",
    "def main():\n",
    "    \"\"\"This function should call noisy_packet() to get a Gaussian wave\n",
    "    packet, call clean_data() to apply a low pass filter to the data and\n",
    "    finally plot the result.\"\"\"\n",
    "    #TODO add your code here\n",
    "\n",
    "\n",
    "def noisy_packet(x_values, k, sigma, noise_amplitude):\n",
    "    \"\"\"This function returns a noisy Gaussian wavepacket with wave\n",
    "    vector k, standard deviation sigma and Gaussian noise of standard\n",
    "    deviation noise_amplitude.\"\"\"\n",
    "    clean_y = wavepacket(x_values,k,sigma)\n",
    "    noisy_y = clean_y + noise_amplitude*np.random.randn(len(x_values))\n",
    "    return noisy_y\n",
    "\n",
    "def clean_data(x_values,y_values):\n",
    "    \"\"\"This function should take a set of y_values, perform the Fourier\n",
    "    transform on it, filter out the high frequency noise, transform the\n",
    "    signal back into real space, and return it.\"\"\"\n",
    "\n",
    "    pass #TODO add your code here\n",
    "    #return y_clean\n",
    "\n",
    "main()  # calls your main function\n",
    "\n"
   ]
  }
 ],
 "metadata": {
  "kernelspec": {
   "display_name": "Python 2",
   "language": "python",
   "name": "python2"
  },
  "language_info": {
   "codemirror_mode": {
    "name": "ipython",
    "version": 2
   },
   "file_extension": ".py",
   "mimetype": "text/x-python",
   "name": "python",
   "nbconvert_exporter": "python",
   "pygments_lexer": "ipython2",
   "version": "2.7.11"
  }
 },
 "nbformat": 4,
 "nbformat_minor": 0
}
